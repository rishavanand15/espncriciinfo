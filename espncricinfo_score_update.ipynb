{
 "cells": [
  {
   "cell_type": "markdown",
   "metadata": {},
   "source": [
    "## This project is about to give a message of updating score of match with intervial of 15 minutes till  the end of the match"
   ]
  },
  {
   "cell_type": "code",
   "execution_count": null,
   "metadata": {},
   "outputs": [],
   "source": [
    "import requests\n",
    "import time\n",
    "from lxml import html\n",
    "from twilio.rest import Client\n",
    "from datetime import datetime\n",
    "from datetime import timedelta"
   ]
  },
  {
   "cell_type": "code",
   "execution_count": null,
   "metadata": {},
   "outputs": [],
   "source": [
    "url='http://www.espncricinfo.com/series/18816/scorecard/1148654/jamaica-tallawahs-vs-st-kitts-and-nevis-patriots-8th-match-caribbean-premier-league-2018'\n",
    "#url of website from where we will be gettinng updated score\n",
    "request=requests.get(url) # to get access of the url\n",
    "status=request.status_code # to check the status\n",
    "if status==200:\n",
    "    a=int(input('enter the differnce of time from now to the end'))\n",
    "    b=int(input('enter the difference of time from now to start of match in minutes'))\n",
    "    present_time=datetime.now() #getting the present time\n",
    "    end_time= datetime.now ()+timedelta(minutes=a) # end time of the match\n",
    "    starting_time=datetime.now()+timedelta(minutes=b)# starting time of the match\n",
    "    while(present_time<=end_time): # terminating condition if present time exceed the end time of the match\n",
    "        present_time=datetime.now()\n",
    "        if(presnt_time>=starting_time):# the updates willstart to come if present_time exceed the starting_time\n",
    "            c=request.content # to get the content from website\n",
    "            tree=html.fromstring(c)\n",
    "            team=tree.xpath(\"//div[@class='cscore_truncate']/a/span[@class='cscore_name cscore_name--long']/text()\")[0]\n",
    "            team_score=tree.xpath(\"//div[@class='cscore_score ']/text()\")[0]\n",
    "            team_over=tree.xpath(\"//span[@class='cscore_overs']/text()\")[0]\n",
    "            team1=tree.xpath(\"//div[@class='cscore_truncate']/a/span[@class='cscore_name cscore_name--long']/text()\")[1]\n",
    "            team_score1=tree.xpath(\"//div[@class='cscore_score ']/text()\")[1]\n",
    "            team_over1=tree.xpath(\"//span[@class='cscore_overs']/text()\")[1]\n",
    "            print(team,team_score,team_over)\n",
    "            print(team1,team_score1,team_over1)\n",
    "            # twilio api program code to get the text\n",
    "            account_sid = 'AC21ce8ff0acbbbd9bb36e537a0745142e' \n",
    "            auth_token = 'b4117d8be6d******f131557edb94'# twilio personal authentication token\n",
    "            client = Client(account_sid, auth_token)\n",
    "            message = client.messages.create(\n",
    "            to=\"+917980389251\",   \n",
    "            from_=\"+18646531756\",\n",
    "            body=team+team_score+team_over)\n",
    "            print(message.sid)\n",
    "            print(team,team_score,team_over)\n",
    "            print(team1,team_score1,team_over1)\n",
    "        else:\n",
    "            print('match will start at'+ str(starting_time))\n",
    "        time.sleep(900) # to sleep the program for 900seconds so that we will be getting updates after every 15 minuted\n",
    "else:\n",
    "    print('please enter the valid url or check the internet connection')"
   ]
  }
 ],
 "metadata": {
  "kernelspec": {
   "display_name": "Python 3",
   "language": "python",
   "name": "python3"
  },
  "language_info": {
   "codemirror_mode": {
    "name": "ipython",
    "version": 3
   },
   "file_extension": ".py",
   "mimetype": "text/x-python",
   "name": "python",
   "nbconvert_exporter": "python",
   "pygments_lexer": "ipython3",
   "version": "3.6.5"
  }
 },
 "nbformat": 4,
 "nbformat_minor": 2
}
